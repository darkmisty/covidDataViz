{
 "cells": [
  {
   "cell_type": "code",
   "execution_count": 1,
   "metadata": {},
   "outputs": [],
   "source": [
    "# for importing the data from \n",
    "import json\n",
    "import requests\n",
    "# for storing and analsis\n",
    "import numpy as np\n",
    "import pandas as pd\n",
    "# for data visualisation \n",
    "import matplotlib.pyplot as plt\n",
    "%matplotlib inline\n",
    "import seaborn as sns"
   ]
  },
  {
   "cell_type": "code",
   "execution_count": 2,
   "metadata": {},
   "outputs": [],
   "source": [
    "resp = requests.get(\"https://pomber.github.io/covid19/timeseries.json\")\n",
    "data = json.loads(resp.text)"
   ]
  },
  {
   "cell_type": "code",
   "execution_count": 3,
   "metadata": {},
   "outputs": [
    {
     "data": {
      "text/plain": [
       "<Response [200]>"
      ]
     },
     "execution_count": 3,
     "metadata": {},
     "output_type": "execute_result"
    }
   ],
   "source": [
    "resp"
   ]
  },
  {
   "cell_type": "code",
   "execution_count": 4,
   "metadata": {},
   "outputs": [
    {
     "data": {
      "text/plain": [
       "requests.models.Response"
      ]
     },
     "execution_count": 4,
     "metadata": {},
     "output_type": "execute_result"
    }
   ],
   "source": [
    "type(resp)"
   ]
  },
  {
   "cell_type": "code",
   "execution_count": 5,
   "metadata": {},
   "outputs": [
    {
     "data": {
      "text/plain": [
       "dict"
      ]
     },
     "execution_count": 5,
     "metadata": {},
     "output_type": "execute_result"
    }
   ],
   "source": [
    "type(json.loads(resp.text))"
   ]
  },
  {
   "cell_type": "code",
   "execution_count": 6,
   "metadata": {},
   "outputs": [],
   "source": [
    "def flatten_json(y):\n",
    "    out = {}\n",
    "    def flatten(x, name=''):\n",
    "        if type(x) is dict:\n",
    "            for a in x:\n",
    "                flatten(x[a], name + a + '_')\n",
    "        elif type(x) is list:\n",
    "            i = 0\n",
    "            for a in x:\n",
    "                flatten(a, name + str(i) + '_')\n",
    "                i += 1\n",
    "        else:\n",
    "            out[name[:-1]] = x\n",
    "    flatten(y)\n",
    "    return out\n",
    "    return out"
   ]
  },
  {
   "cell_type": "code",
   "execution_count": 7,
   "metadata": {},
   "outputs": [],
   "source": [
    "df = pd.DataFrame(columns=['country', 'date', 'confirmed', 'deaths', 'recovered'])\n",
    "df_totalCases = pd.DataFrame(columns=['country', 'date', 'confirmed', 'deaths', 'recovered'])\n",
    "for key,value in data.items():\n",
    "    dic_flattened = (flatten_json(d) for d in value)\n",
    "    temp_df = pd.DataFrame(dic_flattened)\n",
    "    temp_df.insert(0, 'country', key)\n",
    "    df = df.append([temp_df], ignore_index = True)\n",
    "    df_totalCases = df_totalCases.append([temp_df.tail(1)] , ignore_index = True)"
   ]
  },
  {
   "cell_type": "code",
   "execution_count": 8,
   "metadata": {},
   "outputs": [
    {
     "data": {
      "text/plain": [
       "country      object\n",
       "date         object\n",
       "confirmed    object\n",
       "deaths       object\n",
       "recovered    object\n",
       "dtype: object"
      ]
     },
     "execution_count": 8,
     "metadata": {},
     "output_type": "execute_result"
    }
   ],
   "source": [
    "df.dtypes"
   ]
  },
  {
   "cell_type": "code",
   "execution_count": 9,
   "metadata": {},
   "outputs": [],
   "source": [
    "df[\"date\"]= pd.to_datetime(df[\"date\"]) \n",
    "df['confirmed'] = df['confirmed'].astype(int)\n",
    "df['deaths'] = df['deaths'].astype(int)\n",
    "df['recovered'] = df['recovered'].astype(int)"
   ]
  },
  {
   "cell_type": "code",
   "execution_count": 10,
   "metadata": {},
   "outputs": [
    {
     "data": {
      "text/plain": [
       "country              object\n",
       "date         datetime64[ns]\n",
       "confirmed             int32\n",
       "deaths                int32\n",
       "recovered             int32\n",
       "dtype: object"
      ]
     },
     "execution_count": 10,
     "metadata": {},
     "output_type": "execute_result"
    }
   ],
   "source": [
    "df.dtypes"
   ]
  },
  {
   "cell_type": "code",
   "execution_count": 11,
   "metadata": {},
   "outputs": [
    {
     "data": {
      "text/html": [
       "<div>\n",
       "<style scoped>\n",
       "    .dataframe tbody tr th:only-of-type {\n",
       "        vertical-align: middle;\n",
       "    }\n",
       "\n",
       "    .dataframe tbody tr th {\n",
       "        vertical-align: top;\n",
       "    }\n",
       "\n",
       "    .dataframe thead th {\n",
       "        text-align: right;\n",
       "    }\n",
       "</style>\n",
       "<table border=\"1\" class=\"dataframe\">\n",
       "  <thead>\n",
       "    <tr style=\"text-align: right;\">\n",
       "      <th></th>\n",
       "      <th>confirmed</th>\n",
       "      <th>deaths</th>\n",
       "      <th>recovered</th>\n",
       "    </tr>\n",
       "  </thead>\n",
       "  <tbody>\n",
       "    <tr>\n",
       "      <th>count</th>\n",
       "      <td>16095.000000</td>\n",
       "      <td>16095.000000</td>\n",
       "      <td>16095.000000</td>\n",
       "    </tr>\n",
       "    <tr>\n",
       "      <th>mean</th>\n",
       "      <td>2323.155328</td>\n",
       "      <td>128.582044</td>\n",
       "      <td>573.261572</td>\n",
       "    </tr>\n",
       "    <tr>\n",
       "      <th>std</th>\n",
       "      <td>19381.898883</td>\n",
       "      <td>1198.041778</td>\n",
       "      <td>5062.095165</td>\n",
       "    </tr>\n",
       "    <tr>\n",
       "      <th>min</th>\n",
       "      <td>0.000000</td>\n",
       "      <td>0.000000</td>\n",
       "      <td>0.000000</td>\n",
       "    </tr>\n",
       "    <tr>\n",
       "      <th>25%</th>\n",
       "      <td>0.000000</td>\n",
       "      <td>0.000000</td>\n",
       "      <td>0.000000</td>\n",
       "    </tr>\n",
       "    <tr>\n",
       "      <th>50%</th>\n",
       "      <td>1.000000</td>\n",
       "      <td>0.000000</td>\n",
       "      <td>0.000000</td>\n",
       "    </tr>\n",
       "    <tr>\n",
       "      <th>75%</th>\n",
       "      <td>74.000000</td>\n",
       "      <td>1.000000</td>\n",
       "      <td>3.000000</td>\n",
       "    </tr>\n",
       "    <tr>\n",
       "      <th>max</th>\n",
       "      <td>699706.000000</td>\n",
       "      <td>36773.000000</td>\n",
       "      <td>83114.000000</td>\n",
       "    </tr>\n",
       "  </tbody>\n",
       "</table>\n",
       "</div>"
      ],
      "text/plain": [
       "           confirmed        deaths     recovered\n",
       "count   16095.000000  16095.000000  16095.000000\n",
       "mean     2323.155328    128.582044    573.261572\n",
       "std     19381.898883   1198.041778   5062.095165\n",
       "min         0.000000      0.000000      0.000000\n",
       "25%         0.000000      0.000000      0.000000\n",
       "50%         1.000000      0.000000      0.000000\n",
       "75%        74.000000      1.000000      3.000000\n",
       "max    699706.000000  36773.000000  83114.000000"
      ]
     },
     "execution_count": 11,
     "metadata": {},
     "output_type": "execute_result"
    }
   ],
   "source": [
    "df.describe()"
   ]
  },
  {
   "cell_type": "code",
   "execution_count": 13,
   "metadata": {},
   "outputs": [
    {
     "name": "stdout",
     "output_type": "stream",
     "text": [
      "<class 'pandas.core.frame.DataFrame'>\n",
      "RangeIndex: 16095 entries, 0 to 16094\n",
      "Data columns (total 5 columns):\n",
      " #   Column     Non-Null Count  Dtype         \n",
      "---  ------     --------------  -----         \n",
      " 0   country    16095 non-null  object        \n",
      " 1   date       16095 non-null  datetime64[ns]\n",
      " 2   confirmed  16095 non-null  int32         \n",
      " 3   deaths     16095 non-null  int32         \n",
      " 4   recovered  16095 non-null  int32         \n",
      "dtypes: datetime64[ns](1), int32(3), object(1)\n",
      "memory usage: 440.2+ KB\n"
     ]
    }
   ],
   "source": [
    "df.info()"
   ]
  },
  {
   "cell_type": "code",
   "execution_count": 14,
   "metadata": {},
   "outputs": [
    {
     "data": {
      "text/plain": [
       "185"
      ]
     },
     "execution_count": 14,
     "metadata": {},
     "output_type": "execute_result"
    }
   ],
   "source": [
    "df['country'].nunique()"
   ]
  },
  {
   "cell_type": "code",
   "execution_count": 15,
   "metadata": {},
   "outputs": [
    {
     "data": {
      "text/html": [
       "<div>\n",
       "<style scoped>\n",
       "    .dataframe tbody tr th:only-of-type {\n",
       "        vertical-align: middle;\n",
       "    }\n",
       "\n",
       "    .dataframe tbody tr th {\n",
       "        vertical-align: top;\n",
       "    }\n",
       "\n",
       "    .dataframe thead th {\n",
       "        text-align: right;\n",
       "    }\n",
       "</style>\n",
       "<table border=\"1\" class=\"dataframe\">\n",
       "  <thead>\n",
       "    <tr style=\"text-align: right;\">\n",
       "      <th></th>\n",
       "      <th>country</th>\n",
       "      <th>date</th>\n",
       "      <th>confirmed</th>\n",
       "      <th>deaths</th>\n",
       "      <th>recovered</th>\n",
       "    </tr>\n",
       "  </thead>\n",
       "  <tbody>\n",
       "    <tr>\n",
       "      <th>0</th>\n",
       "      <td>Afghanistan</td>\n",
       "      <td>2020-01-22</td>\n",
       "      <td>0</td>\n",
       "      <td>0</td>\n",
       "      <td>0</td>\n",
       "    </tr>\n",
       "    <tr>\n",
       "      <th>1</th>\n",
       "      <td>Afghanistan</td>\n",
       "      <td>2020-01-23</td>\n",
       "      <td>0</td>\n",
       "      <td>0</td>\n",
       "      <td>0</td>\n",
       "    </tr>\n",
       "    <tr>\n",
       "      <th>2</th>\n",
       "      <td>Afghanistan</td>\n",
       "      <td>2020-01-24</td>\n",
       "      <td>0</td>\n",
       "      <td>0</td>\n",
       "      <td>0</td>\n",
       "    </tr>\n",
       "    <tr>\n",
       "      <th>3</th>\n",
       "      <td>Afghanistan</td>\n",
       "      <td>2020-01-25</td>\n",
       "      <td>0</td>\n",
       "      <td>0</td>\n",
       "      <td>0</td>\n",
       "    </tr>\n",
       "    <tr>\n",
       "      <th>4</th>\n",
       "      <td>Afghanistan</td>\n",
       "      <td>2020-01-26</td>\n",
       "      <td>0</td>\n",
       "      <td>0</td>\n",
       "      <td>0</td>\n",
       "    </tr>\n",
       "    <tr>\n",
       "      <th>...</th>\n",
       "      <td>...</td>\n",
       "      <td>...</td>\n",
       "      <td>...</td>\n",
       "      <td>...</td>\n",
       "      <td>...</td>\n",
       "    </tr>\n",
       "    <tr>\n",
       "      <th>16090</th>\n",
       "      <td>Yemen</td>\n",
       "      <td>2020-04-13</td>\n",
       "      <td>1</td>\n",
       "      <td>0</td>\n",
       "      <td>0</td>\n",
       "    </tr>\n",
       "    <tr>\n",
       "      <th>16091</th>\n",
       "      <td>Yemen</td>\n",
       "      <td>2020-04-14</td>\n",
       "      <td>1</td>\n",
       "      <td>0</td>\n",
       "      <td>0</td>\n",
       "    </tr>\n",
       "    <tr>\n",
       "      <th>16092</th>\n",
       "      <td>Yemen</td>\n",
       "      <td>2020-04-15</td>\n",
       "      <td>1</td>\n",
       "      <td>0</td>\n",
       "      <td>0</td>\n",
       "    </tr>\n",
       "    <tr>\n",
       "      <th>16093</th>\n",
       "      <td>Yemen</td>\n",
       "      <td>2020-04-16</td>\n",
       "      <td>1</td>\n",
       "      <td>0</td>\n",
       "      <td>0</td>\n",
       "    </tr>\n",
       "    <tr>\n",
       "      <th>16094</th>\n",
       "      <td>Yemen</td>\n",
       "      <td>2020-04-17</td>\n",
       "      <td>1</td>\n",
       "      <td>0</td>\n",
       "      <td>0</td>\n",
       "    </tr>\n",
       "  </tbody>\n",
       "</table>\n",
       "<p>16095 rows × 5 columns</p>\n",
       "</div>"
      ],
      "text/plain": [
       "           country       date  confirmed  deaths  recovered\n",
       "0      Afghanistan 2020-01-22          0       0          0\n",
       "1      Afghanistan 2020-01-23          0       0          0\n",
       "2      Afghanistan 2020-01-24          0       0          0\n",
       "3      Afghanistan 2020-01-25          0       0          0\n",
       "4      Afghanistan 2020-01-26          0       0          0\n",
       "...            ...        ...        ...     ...        ...\n",
       "16090        Yemen 2020-04-13          1       0          0\n",
       "16091        Yemen 2020-04-14          1       0          0\n",
       "16092        Yemen 2020-04-15          1       0          0\n",
       "16093        Yemen 2020-04-16          1       0          0\n",
       "16094        Yemen 2020-04-17          1       0          0\n",
       "\n",
       "[16095 rows x 5 columns]"
      ]
     },
     "execution_count": 15,
     "metadata": {},
     "output_type": "execute_result"
    }
   ],
   "source": [
    "df"
   ]
  },
  {
   "cell_type": "code",
   "execution_count": 16,
   "metadata": {},
   "outputs": [
    {
     "data": {
      "text/html": [
       "<div>\n",
       "<style scoped>\n",
       "    .dataframe tbody tr th:only-of-type {\n",
       "        vertical-align: middle;\n",
       "    }\n",
       "\n",
       "    .dataframe tbody tr th {\n",
       "        vertical-align: top;\n",
       "    }\n",
       "\n",
       "    .dataframe thead th {\n",
       "        text-align: right;\n",
       "    }\n",
       "</style>\n",
       "<table border=\"1\" class=\"dataframe\">\n",
       "  <thead>\n",
       "    <tr style=\"text-align: right;\">\n",
       "      <th></th>\n",
       "      <th>country</th>\n",
       "      <th>date</th>\n",
       "      <th>confirmed</th>\n",
       "      <th>deaths</th>\n",
       "      <th>recovered</th>\n",
       "    </tr>\n",
       "  </thead>\n",
       "  <tbody>\n",
       "    <tr>\n",
       "      <th>0</th>\n",
       "      <td>Afghanistan</td>\n",
       "      <td>2020-4-17</td>\n",
       "      <td>906</td>\n",
       "      <td>30</td>\n",
       "      <td>99</td>\n",
       "    </tr>\n",
       "    <tr>\n",
       "      <th>1</th>\n",
       "      <td>Albania</td>\n",
       "      <td>2020-4-17</td>\n",
       "      <td>539</td>\n",
       "      <td>26</td>\n",
       "      <td>283</td>\n",
       "    </tr>\n",
       "    <tr>\n",
       "      <th>2</th>\n",
       "      <td>Algeria</td>\n",
       "      <td>2020-4-17</td>\n",
       "      <td>2418</td>\n",
       "      <td>364</td>\n",
       "      <td>846</td>\n",
       "    </tr>\n",
       "    <tr>\n",
       "      <th>3</th>\n",
       "      <td>Andorra</td>\n",
       "      <td>2020-4-17</td>\n",
       "      <td>696</td>\n",
       "      <td>35</td>\n",
       "      <td>191</td>\n",
       "    </tr>\n",
       "    <tr>\n",
       "      <th>4</th>\n",
       "      <td>Angola</td>\n",
       "      <td>2020-4-17</td>\n",
       "      <td>19</td>\n",
       "      <td>2</td>\n",
       "      <td>5</td>\n",
       "    </tr>\n",
       "    <tr>\n",
       "      <th>...</th>\n",
       "      <td>...</td>\n",
       "      <td>...</td>\n",
       "      <td>...</td>\n",
       "      <td>...</td>\n",
       "      <td>...</td>\n",
       "    </tr>\n",
       "    <tr>\n",
       "      <th>180</th>\n",
       "      <td>Malawi</td>\n",
       "      <td>2020-4-17</td>\n",
       "      <td>17</td>\n",
       "      <td>2</td>\n",
       "      <td>3</td>\n",
       "    </tr>\n",
       "    <tr>\n",
       "      <th>181</th>\n",
       "      <td>South Sudan</td>\n",
       "      <td>2020-4-17</td>\n",
       "      <td>4</td>\n",
       "      <td>0</td>\n",
       "      <td>0</td>\n",
       "    </tr>\n",
       "    <tr>\n",
       "      <th>182</th>\n",
       "      <td>Western Sahara</td>\n",
       "      <td>2020-4-17</td>\n",
       "      <td>6</td>\n",
       "      <td>0</td>\n",
       "      <td>0</td>\n",
       "    </tr>\n",
       "    <tr>\n",
       "      <th>183</th>\n",
       "      <td>Sao Tome and Principe</td>\n",
       "      <td>2020-4-17</td>\n",
       "      <td>4</td>\n",
       "      <td>0</td>\n",
       "      <td>0</td>\n",
       "    </tr>\n",
       "    <tr>\n",
       "      <th>184</th>\n",
       "      <td>Yemen</td>\n",
       "      <td>2020-4-17</td>\n",
       "      <td>1</td>\n",
       "      <td>0</td>\n",
       "      <td>0</td>\n",
       "    </tr>\n",
       "  </tbody>\n",
       "</table>\n",
       "<p>185 rows × 5 columns</p>\n",
       "</div>"
      ],
      "text/plain": [
       "                   country       date confirmed deaths recovered\n",
       "0              Afghanistan  2020-4-17       906     30        99\n",
       "1                  Albania  2020-4-17       539     26       283\n",
       "2                  Algeria  2020-4-17      2418    364       846\n",
       "3                  Andorra  2020-4-17       696     35       191\n",
       "4                   Angola  2020-4-17        19      2         5\n",
       "..                     ...        ...       ...    ...       ...\n",
       "180                 Malawi  2020-4-17        17      2         3\n",
       "181            South Sudan  2020-4-17         4      0         0\n",
       "182         Western Sahara  2020-4-17         6      0         0\n",
       "183  Sao Tome and Principe  2020-4-17         4      0         0\n",
       "184                  Yemen  2020-4-17         1      0         0\n",
       "\n",
       "[185 rows x 5 columns]"
      ]
     },
     "execution_count": 16,
     "metadata": {},
     "output_type": "execute_result"
    }
   ],
   "source": [
    "df_totalCases"
   ]
  },
  {
   "cell_type": "code",
   "execution_count": 17,
   "metadata": {},
   "outputs": [],
   "source": [
    "top10 = df_totalCases.sort_values(by=['confirmed'], ascending  =False, ignore_index=True).head(10)\n"
   ]
  },
  {
   "cell_type": "code",
   "execution_count": 18,
   "metadata": {},
   "outputs": [
    {
     "data": {
      "text/html": [
       "<div>\n",
       "<style scoped>\n",
       "    .dataframe tbody tr th:only-of-type {\n",
       "        vertical-align: middle;\n",
       "    }\n",
       "\n",
       "    .dataframe tbody tr th {\n",
       "        vertical-align: top;\n",
       "    }\n",
       "\n",
       "    .dataframe thead th {\n",
       "        text-align: right;\n",
       "    }\n",
       "</style>\n",
       "<table border=\"1\" class=\"dataframe\">\n",
       "  <thead>\n",
       "    <tr style=\"text-align: right;\">\n",
       "      <th></th>\n",
       "      <th>country</th>\n",
       "      <th>date</th>\n",
       "      <th>confirmed</th>\n",
       "      <th>deaths</th>\n",
       "      <th>recovered</th>\n",
       "    </tr>\n",
       "  </thead>\n",
       "  <tbody>\n",
       "    <tr>\n",
       "      <th>0</th>\n",
       "      <td>US</td>\n",
       "      <td>2020-4-17</td>\n",
       "      <td>699706</td>\n",
       "      <td>36773</td>\n",
       "      <td>58545</td>\n",
       "    </tr>\n",
       "    <tr>\n",
       "      <th>1</th>\n",
       "      <td>Spain</td>\n",
       "      <td>2020-4-17</td>\n",
       "      <td>190839</td>\n",
       "      <td>20002</td>\n",
       "      <td>74797</td>\n",
       "    </tr>\n",
       "    <tr>\n",
       "      <th>2</th>\n",
       "      <td>Italy</td>\n",
       "      <td>2020-4-17</td>\n",
       "      <td>172434</td>\n",
       "      <td>22745</td>\n",
       "      <td>42727</td>\n",
       "    </tr>\n",
       "    <tr>\n",
       "      <th>3</th>\n",
       "      <td>France</td>\n",
       "      <td>2020-4-17</td>\n",
       "      <td>149130</td>\n",
       "      <td>18703</td>\n",
       "      <td>35006</td>\n",
       "    </tr>\n",
       "    <tr>\n",
       "      <th>4</th>\n",
       "      <td>Germany</td>\n",
       "      <td>2020-4-17</td>\n",
       "      <td>141397</td>\n",
       "      <td>4352</td>\n",
       "      <td>83114</td>\n",
       "    </tr>\n",
       "    <tr>\n",
       "      <th>5</th>\n",
       "      <td>United Kingdom</td>\n",
       "      <td>2020-4-17</td>\n",
       "      <td>109769</td>\n",
       "      <td>14607</td>\n",
       "      <td>394</td>\n",
       "    </tr>\n",
       "    <tr>\n",
       "      <th>6</th>\n",
       "      <td>China</td>\n",
       "      <td>2020-4-17</td>\n",
       "      <td>83760</td>\n",
       "      <td>4636</td>\n",
       "      <td>77552</td>\n",
       "    </tr>\n",
       "    <tr>\n",
       "      <th>7</th>\n",
       "      <td>Iran</td>\n",
       "      <td>2020-4-17</td>\n",
       "      <td>79494</td>\n",
       "      <td>4958</td>\n",
       "      <td>54064</td>\n",
       "    </tr>\n",
       "    <tr>\n",
       "      <th>8</th>\n",
       "      <td>Turkey</td>\n",
       "      <td>2020-4-17</td>\n",
       "      <td>78546</td>\n",
       "      <td>1769</td>\n",
       "      <td>8631</td>\n",
       "    </tr>\n",
       "    <tr>\n",
       "      <th>9</th>\n",
       "      <td>Belgium</td>\n",
       "      <td>2020-4-17</td>\n",
       "      <td>36138</td>\n",
       "      <td>5163</td>\n",
       "      <td>7961</td>\n",
       "    </tr>\n",
       "  </tbody>\n",
       "</table>\n",
       "</div>"
      ],
      "text/plain": [
       "          country       date confirmed deaths recovered\n",
       "0              US  2020-4-17    699706  36773     58545\n",
       "1           Spain  2020-4-17    190839  20002     74797\n",
       "2           Italy  2020-4-17    172434  22745     42727\n",
       "3          France  2020-4-17    149130  18703     35006\n",
       "4         Germany  2020-4-17    141397   4352     83114\n",
       "5  United Kingdom  2020-4-17    109769  14607       394\n",
       "6           China  2020-4-17     83760   4636     77552\n",
       "7            Iran  2020-4-17     79494   4958     54064\n",
       "8          Turkey  2020-4-17     78546   1769      8631\n",
       "9         Belgium  2020-4-17     36138   5163      7961"
      ]
     },
     "execution_count": 18,
     "metadata": {},
     "output_type": "execute_result"
    }
   ],
   "source": [
    "top10"
   ]
  },
  {
   "cell_type": "code",
   "execution_count": 19,
   "metadata": {},
   "outputs": [
    {
     "data": {
      "text/plain": [
       "[Text(0, 0, 'US'),\n",
       " Text(0, 0, 'Spain'),\n",
       " Text(0, 0, 'Italy'),\n",
       " Text(0, 0, 'France'),\n",
       " Text(0, 0, 'Germany'),\n",
       " Text(0, 0, 'United Kingdom'),\n",
       " Text(0, 0, 'China'),\n",
       " Text(0, 0, 'Iran'),\n",
       " Text(0, 0, 'Turkey'),\n",
       " Text(0, 0, 'Belgium')]"
      ]
     },
     "execution_count": 19,
     "metadata": {},
     "output_type": "execute_result"
    },
    {
     "data": {
      "image/png": "[encoded data removed]",
      "text/plain": [
       "<Figure size 1440x360 with 1 Axes>"
      ]
     },
     "metadata": {
      "needs_background": "light"
     },
     "output_type": "display_data"
    }
   ],
   "source": [
    "plt.figure(figsize=(20,5))\n",
    "chart = sns.barplot(\n",
    "    data=top10,\n",
    "    x= 'country',\n",
    "    y = 'confirmed',\n",
    "    palette='rainbow'\n",
    ")\n",
    "chart.set(xlabel='Country', ylabel='Confirmed Cases', title = 'Top 10 nations with most number of confirmed cases')\n",
    "chart.set_xticklabels(chart.get_xticklabels(), rotation=45)"
   ]
  },
  {
   "cell_type": "code",
   "execution_count": 20,
   "metadata": {},
   "outputs": [
    {
     "data": {
      "text/html": [
       "<div>\n",
       "<style scoped>\n",
       "    .dataframe tbody tr th:only-of-type {\n",
       "        vertical-align: middle;\n",
       "    }\n",
       "\n",
       "    .dataframe tbody tr th {\n",
       "        vertical-align: top;\n",
       "    }\n",
       "\n",
       "    .dataframe thead th {\n",
       "        text-align: right;\n",
       "    }\n",
       "</style>\n",
       "<table border=\"1\" class=\"dataframe\">\n",
       "  <thead>\n",
       "    <tr style=\"text-align: right;\">\n",
       "      <th></th>\n",
       "      <th>country</th>\n",
       "      <th>date</th>\n",
       "      <th>confirmed</th>\n",
       "      <th>deaths</th>\n",
       "      <th>recovered</th>\n",
       "    </tr>\n",
       "  </thead>\n",
       "  <tbody>\n",
       "    <tr>\n",
       "      <th>0</th>\n",
       "      <td>Germany</td>\n",
       "      <td>2020-4-17</td>\n",
       "      <td>141397</td>\n",
       "      <td>4352</td>\n",
       "      <td>83114</td>\n",
       "    </tr>\n",
       "    <tr>\n",
       "      <th>1</th>\n",
       "      <td>China</td>\n",
       "      <td>2020-4-17</td>\n",
       "      <td>83760</td>\n",
       "      <td>4636</td>\n",
       "      <td>77552</td>\n",
       "    </tr>\n",
       "    <tr>\n",
       "      <th>2</th>\n",
       "      <td>Spain</td>\n",
       "      <td>2020-4-17</td>\n",
       "      <td>190839</td>\n",
       "      <td>20002</td>\n",
       "      <td>74797</td>\n",
       "    </tr>\n",
       "    <tr>\n",
       "      <th>3</th>\n",
       "      <td>US</td>\n",
       "      <td>2020-4-17</td>\n",
       "      <td>699706</td>\n",
       "      <td>36773</td>\n",
       "      <td>58545</td>\n",
       "    </tr>\n",
       "    <tr>\n",
       "      <th>4</th>\n",
       "      <td>Iran</td>\n",
       "      <td>2020-4-17</td>\n",
       "      <td>79494</td>\n",
       "      <td>4958</td>\n",
       "      <td>54064</td>\n",
       "    </tr>\n",
       "    <tr>\n",
       "      <th>5</th>\n",
       "      <td>Italy</td>\n",
       "      <td>2020-4-17</td>\n",
       "      <td>172434</td>\n",
       "      <td>22745</td>\n",
       "      <td>42727</td>\n",
       "    </tr>\n",
       "    <tr>\n",
       "      <th>6</th>\n",
       "      <td>France</td>\n",
       "      <td>2020-4-17</td>\n",
       "      <td>149130</td>\n",
       "      <td>18703</td>\n",
       "      <td>35006</td>\n",
       "    </tr>\n",
       "    <tr>\n",
       "      <th>7</th>\n",
       "      <td>Switzerland</td>\n",
       "      <td>2020-4-17</td>\n",
       "      <td>27078</td>\n",
       "      <td>1327</td>\n",
       "      <td>16400</td>\n",
       "    </tr>\n",
       "    <tr>\n",
       "      <th>8</th>\n",
       "      <td>Brazil</td>\n",
       "      <td>2020-4-17</td>\n",
       "      <td>33682</td>\n",
       "      <td>2141</td>\n",
       "      <td>14026</td>\n",
       "    </tr>\n",
       "    <tr>\n",
       "      <th>9</th>\n",
       "      <td>Canada</td>\n",
       "      <td>2020-4-17</td>\n",
       "      <td>32813</td>\n",
       "      <td>1354</td>\n",
       "      <td>10545</td>\n",
       "    </tr>\n",
       "  </tbody>\n",
       "</table>\n",
       "</div>"
      ],
      "text/plain": [
       "       country       date confirmed deaths recovered\n",
       "0      Germany  2020-4-17    141397   4352     83114\n",
       "1        China  2020-4-17     83760   4636     77552\n",
       "2        Spain  2020-4-17    190839  20002     74797\n",
       "3           US  2020-4-17    699706  36773     58545\n",
       "4         Iran  2020-4-17     79494   4958     54064\n",
       "5        Italy  2020-4-17    172434  22745     42727\n",
       "6       France  2020-4-17    149130  18703     35006\n",
       "7  Switzerland  2020-4-17     27078   1327     16400\n",
       "8       Brazil  2020-4-17     33682   2141     14026\n",
       "9       Canada  2020-4-17     32813   1354     10545"
      ]
     },
     "execution_count": 20,
     "metadata": {},
     "output_type": "execute_result"
    }
   ],
   "source": [
    "temp10 = df_totalCases.sort_values(by=['recovered'], ascending  =False, ignore_index=True).head(10)\n",
    "temp10"
   ]
  },
  {
   "cell_type": "code",
   "execution_count": 21,
   "metadata": {},
   "outputs": [
    {
     "data": {
      "text/plain": [
       "[Text(0, 0, 'Germany'),\n",
       " Text(0, 0, 'China'),\n",
       " Text(0, 0, 'Spain'),\n",
       " Text(0, 0, 'US'),\n",
       " Text(0, 0, 'Iran'),\n",
       " Text(0, 0, 'Italy'),\n",
       " Text(0, 0, 'France'),\n",
       " Text(0, 0, 'Switzerland'),\n",
       " Text(0, 0, 'Brazil'),\n",
       " Text(0, 0, 'Canada')]"
      ]
     },
     "execution_count": 21,
     "metadata": {},
     "output_type": "execute_result"
    },
    {
     "data": {
      "image/png": "[encoded data removed]",
      "text/plain": [
       "<Figure size 1440x360 with 1 Axes>"
      ]
     },
     "metadata": {
      "needs_background": "light"
     },
     "output_type": "display_data"
    }
   ],
   "source": [
    "plt.figure(figsize=(20,5))\n",
    "chart = sns.barplot(\n",
    "    data=temp10,\n",
    "    x= 'country',\n",
    "    y = 'recovered',\n",
    "    palette='rainbow'\n",
    ")\n",
    "chart.set(xlabel='Country', ylabel='Recovered Cases', title = 'Top 10 nations with most number of recovered cases')\n",
    "chart.set_xticklabels(chart.get_xticklabels(), rotation=45)"
   ]
  },
  {
   "cell_type": "code",
   "execution_count": 22,
   "metadata": {},
   "outputs": [
    {
     "data": {
      "text/plain": [
       "[Text(0, 0, 'US'),\n",
       " Text(0, 0, 'Spain'),\n",
       " Text(0, 0, 'Italy'),\n",
       " Text(0, 0, 'France'),\n",
       " Text(0, 0, 'Germany'),\n",
       " Text(0, 0, 'United Kingdom'),\n",
       " Text(0, 0, 'China'),\n",
       " Text(0, 0, 'Iran'),\n",
       " Text(0, 0, 'Turkey'),\n",
       " Text(0, 0, 'Belgium')]"
      ]
     },
     "execution_count": 22,
     "metadata": {},
     "output_type": "execute_result"
    },
    {
     "data": {
      "image/png": "[encoded data removed]",
      "text/plain": [
       "<Figure size 432x288 with 1 Axes>"
      ]
     },
     "metadata": {
      "needs_background": "light"
     },
     "output_type": "display_data"
    }
   ],
   "source": [
    "top10[['confirmed','deaths','country']].plot(kind='bar', stacked=True)\n",
    "chart = sns.barplot(\n",
    "    data=top10,\n",
    "    x= top10['country'],\n",
    "    y = top10['confirmed'],\n",
    "    palette='viridis'\n",
    ")\n",
    "chart.set(xlabel='Country', ylabel='Confirmed', title = 'Confirmed vs deaths cases in top 10 most affected nations')\n",
    "chart.set_xticklabels(chart.get_xticklabels(), rotation=45)"
   ]
  },
  {
   "cell_type": "code",
   "execution_count": 23,
   "metadata": {},
   "outputs": [],
   "source": [
    "sns.set_style(\"whitegrid\")"
   ]
  },
  {
   "cell_type": "code",
   "execution_count": 24,
   "metadata": {},
   "outputs": [
    {
     "data": {
      "text/plain": [
       "[Text(0, 0, 'US'),\n",
       " Text(0, 0, 'Spain'),\n",
       " Text(0, 0, 'Italy'),\n",
       " Text(0, 0, 'France'),\n",
       " Text(0, 0, 'Germany'),\n",
       " Text(0, 0, 'United Kingdom'),\n",
       " Text(0, 0, 'China'),\n",
       " Text(0, 0, 'Iran'),\n",
       " Text(0, 0, 'Turkey'),\n",
       " Text(0, 0, 'Belgium')]"
      ]
     },
     "execution_count": 24,
     "metadata": {},
     "output_type": "execute_result"
    },
    {
     "data": {
      "image/png": "[encoded data removed]",
      "text/plain": [
       "<Figure size 432x288 with 1 Axes>"
      ]
     },
     "metadata": {},
     "output_type": "display_data"
    }
   ],
   "source": [
    "top10[['confirmed','deaths','country']].plot(kind='bar', stacked=True)\n",
    "chart = sns.barplot(\n",
    "    data=top10,\n",
    "    x= top10['country'],\n",
    "    y = top10['confirmed'],\n",
    "    palette='viridis'\n",
    ")\n",
    "chart.set(xlabel='Country', ylabel='Confirmed And Deaths Cases ', title = 'Confirmed vs deaths cases in top 10 most affected nations')\n",
    "chart.set_xticklabels(chart.get_xticklabels(), rotation=45)"
   ]
  },
  {
   "cell_type": "code",
   "execution_count": 25,
   "metadata": {},
   "outputs": [
    {
     "data": {
      "text/plain": [
       "[Text(0, 0.5, 'Number of cases')]"
      ]
     },
     "execution_count": 25,
     "metadata": {},
     "output_type": "execute_result"
    },
    {
     "data": {
      "image/png": "[encoded data removed]",
      "text/plain": [
       "<Figure size 1800x1080 with 1 Axes>"
      ]
     },
     "metadata": {},
     "output_type": "display_data"
    }
   ],
   "source": [
    "#top10.plot.box()\n",
    "plt.figure(figsize=(25,15))\n",
    "sns.boxplot(data = top10).set(\n",
    "    ylabel='Number of cases'\n",
    ")"
   ]
  },
  {
   "cell_type": "code",
   "execution_count": 26,
   "metadata": {},
   "outputs": [],
   "source": [
    "sns.set(font_scale=3)"
   ]
  },
  {
   "cell_type": "code",
   "execution_count": 29,
   "metadata": {},
   "outputs": [
    {
     "data": {
      "text/plain": [
       "(0, 200000)"
      ]
     },
     "execution_count": 29,
     "metadata": {},
     "output_type": "execute_result"
    },
    {
     "data": {
      "image/png": "[encoded data removed]",
      "text/plain": [
       "<Figure size 1800x1080 with 1 Axes>"
      ]
     },
     "metadata": {},
     "output_type": "display_data"
    }
   ],
   "source": [
    "#top10.plot.box()\n",
    "plt.figure(figsize=(25,15))\n",
    "sns.boxplot(data = top10).set(\n",
    "    ylabel='Number of cases'\n",
    ")\n",
    "plt.ylim(0, 200000)"
   ]
  },
  {
   "cell_type": "code",
   "execution_count": 30,
   "metadata": {},
   "outputs": [],
   "source": [
    "sns.set(font_scale=1)"
   ]
  },
  {
   "cell_type": "code",
   "execution_count": 31,
   "metadata": {},
   "outputs": [
    {
     "data": {
      "text/plain": [
       "<matplotlib.axes._subplots.AxesSubplot at 0x2b0d04d8860>"
      ]
     },
     "execution_count": 31,
     "metadata": {},
     "output_type": "execute_result"
    },
    {
     "data": {
      "image/png": "[encoded data removed]",
      "text/plain": [
       "<Figure size 432x288 with 1 Axes>"
      ]
     },
     "metadata": {},
     "output_type": "display_data"
    }
   ],
   "source": [
    "sns.scatterplot(x=\"confirmed\", y=\"deaths\", data=top10)\n"
   ]
  },
  {
   "cell_type": "code",
   "execution_count": 32,
   "metadata": {},
   "outputs": [
    {
     "data": {
      "text/plain": [
       "Text(0, 0.5, 'Death Cases')"
      ]
     },
     "execution_count": 32,
     "metadata": {},
     "output_type": "execute_result"
    },
    {
     "data": {
      "image/png": "[encoded data removed]",
      "text/plain": [
       "<Figure size 1440x864 with 1 Axes>"
      ]
     },
     "metadata": {},
     "output_type": "display_data"
    }
   ],
   "source": [
    "plt.figure(figsize=(20,12))\n",
    "p1 = sns.scatterplot(x=\"confirmed\", y=\"deaths\", data=top10)\n",
    "\n",
    "for line in range(0,top10.shape[0]):\n",
    "     p1.text(top10.confirmed[line]+0.01, top10.deaths[line], \n",
    "     top10.country[line], horizontalalignment='left', \n",
    "     size='large', color='blue', weight='semibold')\n",
    "\n",
    "plt.title('Confirmed vs Death Cases')\n",
    "# Set x-axis label\n",
    "plt.xlabel('Confirmed Cases')\n",
    "# Set y-axis label\n",
    "plt.ylabel('Death Cases')"
   ]
  },
  {
   "cell_type": "code",
   "execution_count": 34,
   "metadata": {},
   "outputs": [],
   "source": [
    "df_totalCases = df_totalCases.assign(active = df_totalCases['confirmed'] - df_totalCases['deaths'],fatality_rate = 100 - ((df_totalCases['confirmed'] - df_totalCases['deaths'])/df_totalCases['confirmed'])*100) "
   ]
  },
  {
   "cell_type": "code",
   "execution_count": 35,
   "metadata": {},
   "outputs": [],
   "source": [
    "top10 = top10.assign(active = top10['confirmed'] - top10['deaths'],fatality_rate = 100 - ((top10['confirmed'] - top10['deaths'])/top10['confirmed'])*100 )"
   ]
  },
  {
   "cell_type": "code",
   "execution_count": 36,
   "metadata": {},
   "outputs": [
    {
     "data": {
      "text/html": [
       "<div>\n",
       "<style scoped>\n",
       "    .dataframe tbody tr th:only-of-type {\n",
       "        vertical-align: middle;\n",
       "    }\n",
       "\n",
       "    .dataframe tbody tr th {\n",
       "        vertical-align: top;\n",
       "    }\n",
       "\n",
       "    .dataframe thead th {\n",
       "        text-align: right;\n",
       "    }\n",
       "</style>\n",
       "<table border=\"1\" class=\"dataframe\">\n",
       "  <thead>\n",
       "    <tr style=\"text-align: right;\">\n",
       "      <th></th>\n",
       "      <th>country</th>\n",
       "      <th>date</th>\n",
       "      <th>confirmed</th>\n",
       "      <th>deaths</th>\n",
       "      <th>recovered</th>\n",
       "      <th>active</th>\n",
       "      <th>fatality_rate</th>\n",
       "    </tr>\n",
       "  </thead>\n",
       "  <tbody>\n",
       "    <tr>\n",
       "      <th>0</th>\n",
       "      <td>US</td>\n",
       "      <td>2020-4-17</td>\n",
       "      <td>699706</td>\n",
       "      <td>36773</td>\n",
       "      <td>58545</td>\n",
       "      <td>662933</td>\n",
       "      <td>5.25549</td>\n",
       "    </tr>\n",
       "    <tr>\n",
       "      <th>1</th>\n",
       "      <td>Spain</td>\n",
       "      <td>2020-4-17</td>\n",
       "      <td>190839</td>\n",
       "      <td>20002</td>\n",
       "      <td>74797</td>\n",
       "      <td>170837</td>\n",
       "      <td>10.4811</td>\n",
       "    </tr>\n",
       "    <tr>\n",
       "      <th>2</th>\n",
       "      <td>Italy</td>\n",
       "      <td>2020-4-17</td>\n",
       "      <td>172434</td>\n",
       "      <td>22745</td>\n",
       "      <td>42727</td>\n",
       "      <td>149689</td>\n",
       "      <td>13.1906</td>\n",
       "    </tr>\n",
       "    <tr>\n",
       "      <th>3</th>\n",
       "      <td>France</td>\n",
       "      <td>2020-4-17</td>\n",
       "      <td>149130</td>\n",
       "      <td>18703</td>\n",
       "      <td>35006</td>\n",
       "      <td>130427</td>\n",
       "      <td>12.5414</td>\n",
       "    </tr>\n",
       "    <tr>\n",
       "      <th>4</th>\n",
       "      <td>Germany</td>\n",
       "      <td>2020-4-17</td>\n",
       "      <td>141397</td>\n",
       "      <td>4352</td>\n",
       "      <td>83114</td>\n",
       "      <td>137045</td>\n",
       "      <td>3.07786</td>\n",
       "    </tr>\n",
       "    <tr>\n",
       "      <th>5</th>\n",
       "      <td>United Kingdom</td>\n",
       "      <td>2020-4-17</td>\n",
       "      <td>109769</td>\n",
       "      <td>14607</td>\n",
       "      <td>394</td>\n",
       "      <td>95162</td>\n",
       "      <td>13.307</td>\n",
       "    </tr>\n",
       "    <tr>\n",
       "      <th>6</th>\n",
       "      <td>China</td>\n",
       "      <td>2020-4-17</td>\n",
       "      <td>83760</td>\n",
       "      <td>4636</td>\n",
       "      <td>77552</td>\n",
       "      <td>79124</td>\n",
       "      <td>5.53486</td>\n",
       "    </tr>\n",
       "    <tr>\n",
       "      <th>7</th>\n",
       "      <td>Iran</td>\n",
       "      <td>2020-4-17</td>\n",
       "      <td>79494</td>\n",
       "      <td>4958</td>\n",
       "      <td>54064</td>\n",
       "      <td>74536</td>\n",
       "      <td>6.23695</td>\n",
       "    </tr>\n",
       "    <tr>\n",
       "      <th>8</th>\n",
       "      <td>Turkey</td>\n",
       "      <td>2020-4-17</td>\n",
       "      <td>78546</td>\n",
       "      <td>1769</td>\n",
       "      <td>8631</td>\n",
       "      <td>76777</td>\n",
       "      <td>2.25218</td>\n",
       "    </tr>\n",
       "    <tr>\n",
       "      <th>9</th>\n",
       "      <td>Belgium</td>\n",
       "      <td>2020-4-17</td>\n",
       "      <td>36138</td>\n",
       "      <td>5163</td>\n",
       "      <td>7961</td>\n",
       "      <td>30975</td>\n",
       "      <td>14.2869</td>\n",
       "    </tr>\n",
       "  </tbody>\n",
       "</table>\n",
       "</div>"
      ],
      "text/plain": [
       "          country       date confirmed deaths recovered  active fatality_rate\n",
       "0              US  2020-4-17    699706  36773     58545  662933       5.25549\n",
       "1           Spain  2020-4-17    190839  20002     74797  170837       10.4811\n",
       "2           Italy  2020-4-17    172434  22745     42727  149689       13.1906\n",
       "3          France  2020-4-17    149130  18703     35006  130427       12.5414\n",
       "4         Germany  2020-4-17    141397   4352     83114  137045       3.07786\n",
       "5  United Kingdom  2020-4-17    109769  14607       394   95162        13.307\n",
       "6           China  2020-4-17     83760   4636     77552   79124       5.53486\n",
       "7            Iran  2020-4-17     79494   4958     54064   74536       6.23695\n",
       "8          Turkey  2020-4-17     78546   1769      8631   76777       2.25218\n",
       "9         Belgium  2020-4-17     36138   5163      7961   30975       14.2869"
      ]
     },
     "execution_count": 36,
     "metadata": {},
     "output_type": "execute_result"
    }
   ],
   "source": [
    "top10"
   ]
  },
  {
   "cell_type": "code",
   "execution_count": 37,
   "metadata": {},
   "outputs": [
    {
     "data": {
      "text/plain": [
       "<seaborn.axisgrid.FacetGrid at 0x2b0d0b0d828>"
      ]
     },
     "execution_count": 37,
     "metadata": {},
     "output_type": "execute_result"
    },
    {
     "data": {
      "image/png": "[encoded data removed]",
      "text/plain": [
       "<Figure size 360x360 with 1 Axes>"
      ]
     },
     "metadata": {},
     "output_type": "display_data"
    }
   ],
   "source": [
    "sns.relplot(x =\"confirmed\" ,y =\"country\"  , data =top10 )"
   ]
  },
  {
   "cell_type": "code",
   "execution_count": 38,
   "metadata": {},
   "outputs": [],
   "source": [
    "plt.style.use('seaborn')"
   ]
  },
  {
   "cell_type": "code",
   "execution_count": 39,
   "metadata": {},
   "outputs": [
    {
     "data": {
      "text/plain": [
       "<matplotlib.axes._subplots.AxesSubplot at 0x2b0d0195470>"
      ]
     },
     "execution_count": 39,
     "metadata": {},
     "output_type": "execute_result"
    },
    {
     "data": {
      "image/png": "[encoded data removed]",
      "text/plain": [
       "<Figure size 576x396 with 1 Axes>"
      ]
     },
     "metadata": {},
     "output_type": "display_data"
    }
   ],
   "source": [
    "top10[['confirmed','deaths','active']].plot.area()"
   ]
  },
  {
   "cell_type": "code",
   "execution_count": 40,
   "metadata": {},
   "outputs": [
    {
     "data": {
      "text/html": [
       "<div>\n",
       "<style scoped>\n",
       "    .dataframe tbody tr th:only-of-type {\n",
       "        vertical-align: middle;\n",
       "    }\n",
       "\n",
       "    .dataframe tbody tr th {\n",
       "        vertical-align: top;\n",
       "    }\n",
       "\n",
       "    .dataframe thead th {\n",
       "        text-align: right;\n",
       "    }\n",
       "</style>\n",
       "<table border=\"1\" class=\"dataframe\">\n",
       "  <thead>\n",
       "    <tr style=\"text-align: right;\">\n",
       "      <th></th>\n",
       "      <th>index</th>\n",
       "      <th>country</th>\n",
       "      <th>date</th>\n",
       "      <th>confirmed</th>\n",
       "      <th>deaths</th>\n",
       "      <th>recovered</th>\n",
       "    </tr>\n",
       "  </thead>\n",
       "  <tbody>\n",
       "    <tr>\n",
       "      <th>0</th>\n",
       "      <td>13612</td>\n",
       "      <td>US</td>\n",
       "      <td>2020-03-02</td>\n",
       "      <td>98</td>\n",
       "      <td>6</td>\n",
       "      <td>7</td>\n",
       "    </tr>\n",
       "    <tr>\n",
       "      <th>1</th>\n",
       "      <td>13613</td>\n",
       "      <td>US</td>\n",
       "      <td>2020-03-03</td>\n",
       "      <td>118</td>\n",
       "      <td>7</td>\n",
       "      <td>7</td>\n",
       "    </tr>\n",
       "    <tr>\n",
       "      <th>2</th>\n",
       "      <td>13614</td>\n",
       "      <td>US</td>\n",
       "      <td>2020-03-04</td>\n",
       "      <td>149</td>\n",
       "      <td>11</td>\n",
       "      <td>7</td>\n",
       "    </tr>\n",
       "    <tr>\n",
       "      <th>3</th>\n",
       "      <td>13615</td>\n",
       "      <td>US</td>\n",
       "      <td>2020-03-05</td>\n",
       "      <td>217</td>\n",
       "      <td>12</td>\n",
       "      <td>7</td>\n",
       "    </tr>\n",
       "    <tr>\n",
       "      <th>4</th>\n",
       "      <td>13616</td>\n",
       "      <td>US</td>\n",
       "      <td>2020-03-06</td>\n",
       "      <td>262</td>\n",
       "      <td>14</td>\n",
       "      <td>7</td>\n",
       "    </tr>\n",
       "    <tr>\n",
       "      <th>5</th>\n",
       "      <td>13617</td>\n",
       "      <td>US</td>\n",
       "      <td>2020-03-07</td>\n",
       "      <td>402</td>\n",
       "      <td>17</td>\n",
       "      <td>7</td>\n",
       "    </tr>\n",
       "    <tr>\n",
       "      <th>6</th>\n",
       "      <td>13618</td>\n",
       "      <td>US</td>\n",
       "      <td>2020-03-08</td>\n",
       "      <td>518</td>\n",
       "      <td>21</td>\n",
       "      <td>7</td>\n",
       "    </tr>\n",
       "    <tr>\n",
       "      <th>7</th>\n",
       "      <td>13619</td>\n",
       "      <td>US</td>\n",
       "      <td>2020-03-09</td>\n",
       "      <td>583</td>\n",
       "      <td>22</td>\n",
       "      <td>7</td>\n",
       "    </tr>\n",
       "    <tr>\n",
       "      <th>8</th>\n",
       "      <td>13620</td>\n",
       "      <td>US</td>\n",
       "      <td>2020-03-10</td>\n",
       "      <td>959</td>\n",
       "      <td>28</td>\n",
       "      <td>8</td>\n",
       "    </tr>\n",
       "    <tr>\n",
       "      <th>9</th>\n",
       "      <td>13621</td>\n",
       "      <td>US</td>\n",
       "      <td>2020-03-11</td>\n",
       "      <td>1281</td>\n",
       "      <td>36</td>\n",
       "      <td>8</td>\n",
       "    </tr>\n",
       "    <tr>\n",
       "      <th>10</th>\n",
       "      <td>13622</td>\n",
       "      <td>US</td>\n",
       "      <td>2020-03-12</td>\n",
       "      <td>1663</td>\n",
       "      <td>40</td>\n",
       "      <td>12</td>\n",
       "    </tr>\n",
       "    <tr>\n",
       "      <th>11</th>\n",
       "      <td>13623</td>\n",
       "      <td>US</td>\n",
       "      <td>2020-03-13</td>\n",
       "      <td>2179</td>\n",
       "      <td>47</td>\n",
       "      <td>12</td>\n",
       "    </tr>\n",
       "    <tr>\n",
       "      <th>12</th>\n",
       "      <td>13624</td>\n",
       "      <td>US</td>\n",
       "      <td>2020-03-14</td>\n",
       "      <td>2727</td>\n",
       "      <td>54</td>\n",
       "      <td>12</td>\n",
       "    </tr>\n",
       "    <tr>\n",
       "      <th>13</th>\n",
       "      <td>13625</td>\n",
       "      <td>US</td>\n",
       "      <td>2020-03-15</td>\n",
       "      <td>3499</td>\n",
       "      <td>63</td>\n",
       "      <td>12</td>\n",
       "    </tr>\n",
       "    <tr>\n",
       "      <th>14</th>\n",
       "      <td>13626</td>\n",
       "      <td>US</td>\n",
       "      <td>2020-03-16</td>\n",
       "      <td>4632</td>\n",
       "      <td>85</td>\n",
       "      <td>17</td>\n",
       "    </tr>\n",
       "    <tr>\n",
       "      <th>15</th>\n",
       "      <td>13627</td>\n",
       "      <td>US</td>\n",
       "      <td>2020-03-17</td>\n",
       "      <td>6421</td>\n",
       "      <td>108</td>\n",
       "      <td>17</td>\n",
       "    </tr>\n",
       "    <tr>\n",
       "      <th>16</th>\n",
       "      <td>13628</td>\n",
       "      <td>US</td>\n",
       "      <td>2020-03-18</td>\n",
       "      <td>7783</td>\n",
       "      <td>118</td>\n",
       "      <td>105</td>\n",
       "    </tr>\n",
       "    <tr>\n",
       "      <th>17</th>\n",
       "      <td>13629</td>\n",
       "      <td>US</td>\n",
       "      <td>2020-03-19</td>\n",
       "      <td>13747</td>\n",
       "      <td>200</td>\n",
       "      <td>121</td>\n",
       "    </tr>\n",
       "    <tr>\n",
       "      <th>18</th>\n",
       "      <td>13630</td>\n",
       "      <td>US</td>\n",
       "      <td>2020-03-20</td>\n",
       "      <td>19273</td>\n",
       "      <td>244</td>\n",
       "      <td>147</td>\n",
       "    </tr>\n",
       "    <tr>\n",
       "      <th>19</th>\n",
       "      <td>13631</td>\n",
       "      <td>US</td>\n",
       "      <td>2020-03-21</td>\n",
       "      <td>25600</td>\n",
       "      <td>307</td>\n",
       "      <td>176</td>\n",
       "    </tr>\n",
       "    <tr>\n",
       "      <th>20</th>\n",
       "      <td>13632</td>\n",
       "      <td>US</td>\n",
       "      <td>2020-03-22</td>\n",
       "      <td>33276</td>\n",
       "      <td>417</td>\n",
       "      <td>178</td>\n",
       "    </tr>\n",
       "    <tr>\n",
       "      <th>21</th>\n",
       "      <td>13633</td>\n",
       "      <td>US</td>\n",
       "      <td>2020-03-23</td>\n",
       "      <td>43843</td>\n",
       "      <td>557</td>\n",
       "      <td>178</td>\n",
       "    </tr>\n",
       "    <tr>\n",
       "      <th>22</th>\n",
       "      <td>13634</td>\n",
       "      <td>US</td>\n",
       "      <td>2020-03-24</td>\n",
       "      <td>53736</td>\n",
       "      <td>706</td>\n",
       "      <td>348</td>\n",
       "    </tr>\n",
       "    <tr>\n",
       "      <th>23</th>\n",
       "      <td>13635</td>\n",
       "      <td>US</td>\n",
       "      <td>2020-03-25</td>\n",
       "      <td>65778</td>\n",
       "      <td>942</td>\n",
       "      <td>361</td>\n",
       "    </tr>\n",
       "    <tr>\n",
       "      <th>24</th>\n",
       "      <td>13636</td>\n",
       "      <td>US</td>\n",
       "      <td>2020-03-26</td>\n",
       "      <td>83836</td>\n",
       "      <td>1209</td>\n",
       "      <td>681</td>\n",
       "    </tr>\n",
       "    <tr>\n",
       "      <th>25</th>\n",
       "      <td>13637</td>\n",
       "      <td>US</td>\n",
       "      <td>2020-03-27</td>\n",
       "      <td>101657</td>\n",
       "      <td>1581</td>\n",
       "      <td>869</td>\n",
       "    </tr>\n",
       "    <tr>\n",
       "      <th>26</th>\n",
       "      <td>13638</td>\n",
       "      <td>US</td>\n",
       "      <td>2020-03-28</td>\n",
       "      <td>121465</td>\n",
       "      <td>2026</td>\n",
       "      <td>1072</td>\n",
       "    </tr>\n",
       "    <tr>\n",
       "      <th>27</th>\n",
       "      <td>13639</td>\n",
       "      <td>US</td>\n",
       "      <td>2020-03-29</td>\n",
       "      <td>140909</td>\n",
       "      <td>2467</td>\n",
       "      <td>2665</td>\n",
       "    </tr>\n",
       "    <tr>\n",
       "      <th>28</th>\n",
       "      <td>13640</td>\n",
       "      <td>US</td>\n",
       "      <td>2020-03-30</td>\n",
       "      <td>161831</td>\n",
       "      <td>2978</td>\n",
       "      <td>5644</td>\n",
       "    </tr>\n",
       "    <tr>\n",
       "      <th>29</th>\n",
       "      <td>13641</td>\n",
       "      <td>US</td>\n",
       "      <td>2020-03-31</td>\n",
       "      <td>188172</td>\n",
       "      <td>3873</td>\n",
       "      <td>7024</td>\n",
       "    </tr>\n",
       "    <tr>\n",
       "      <th>30</th>\n",
       "      <td>13642</td>\n",
       "      <td>US</td>\n",
       "      <td>2020-04-01</td>\n",
       "      <td>213372</td>\n",
       "      <td>4757</td>\n",
       "      <td>8474</td>\n",
       "    </tr>\n",
       "    <tr>\n",
       "      <th>31</th>\n",
       "      <td>13643</td>\n",
       "      <td>US</td>\n",
       "      <td>2020-04-02</td>\n",
       "      <td>243762</td>\n",
       "      <td>5926</td>\n",
       "      <td>9001</td>\n",
       "    </tr>\n",
       "    <tr>\n",
       "      <th>32</th>\n",
       "      <td>13644</td>\n",
       "      <td>US</td>\n",
       "      <td>2020-04-03</td>\n",
       "      <td>275586</td>\n",
       "      <td>7087</td>\n",
       "      <td>9707</td>\n",
       "    </tr>\n",
       "    <tr>\n",
       "      <th>33</th>\n",
       "      <td>13645</td>\n",
       "      <td>US</td>\n",
       "      <td>2020-04-04</td>\n",
       "      <td>308853</td>\n",
       "      <td>8407</td>\n",
       "      <td>14652</td>\n",
       "    </tr>\n",
       "    <tr>\n",
       "      <th>34</th>\n",
       "      <td>13646</td>\n",
       "      <td>US</td>\n",
       "      <td>2020-04-05</td>\n",
       "      <td>337072</td>\n",
       "      <td>9619</td>\n",
       "      <td>17448</td>\n",
       "    </tr>\n",
       "    <tr>\n",
       "      <th>35</th>\n",
       "      <td>13647</td>\n",
       "      <td>US</td>\n",
       "      <td>2020-04-06</td>\n",
       "      <td>366667</td>\n",
       "      <td>10783</td>\n",
       "      <td>19581</td>\n",
       "    </tr>\n",
       "    <tr>\n",
       "      <th>36</th>\n",
       "      <td>13648</td>\n",
       "      <td>US</td>\n",
       "      <td>2020-04-07</td>\n",
       "      <td>396223</td>\n",
       "      <td>12722</td>\n",
       "      <td>21763</td>\n",
       "    </tr>\n",
       "    <tr>\n",
       "      <th>37</th>\n",
       "      <td>13649</td>\n",
       "      <td>US</td>\n",
       "      <td>2020-04-08</td>\n",
       "      <td>429052</td>\n",
       "      <td>14695</td>\n",
       "      <td>23559</td>\n",
       "    </tr>\n",
       "    <tr>\n",
       "      <th>38</th>\n",
       "      <td>13650</td>\n",
       "      <td>US</td>\n",
       "      <td>2020-04-09</td>\n",
       "      <td>461437</td>\n",
       "      <td>16478</td>\n",
       "      <td>25410</td>\n",
       "    </tr>\n",
       "    <tr>\n",
       "      <th>39</th>\n",
       "      <td>13651</td>\n",
       "      <td>US</td>\n",
       "      <td>2020-04-10</td>\n",
       "      <td>496535</td>\n",
       "      <td>18586</td>\n",
       "      <td>28790</td>\n",
       "    </tr>\n",
       "    <tr>\n",
       "      <th>40</th>\n",
       "      <td>13652</td>\n",
       "      <td>US</td>\n",
       "      <td>2020-04-11</td>\n",
       "      <td>526396</td>\n",
       "      <td>20462</td>\n",
       "      <td>31270</td>\n",
       "    </tr>\n",
       "    <tr>\n",
       "      <th>41</th>\n",
       "      <td>13653</td>\n",
       "      <td>US</td>\n",
       "      <td>2020-04-12</td>\n",
       "      <td>555313</td>\n",
       "      <td>22019</td>\n",
       "      <td>32988</td>\n",
       "    </tr>\n",
       "    <tr>\n",
       "      <th>42</th>\n",
       "      <td>13654</td>\n",
       "      <td>US</td>\n",
       "      <td>2020-04-13</td>\n",
       "      <td>580619</td>\n",
       "      <td>23528</td>\n",
       "      <td>43482</td>\n",
       "    </tr>\n",
       "    <tr>\n",
       "      <th>43</th>\n",
       "      <td>13655</td>\n",
       "      <td>US</td>\n",
       "      <td>2020-04-14</td>\n",
       "      <td>607670</td>\n",
       "      <td>25831</td>\n",
       "      <td>47763</td>\n",
       "    </tr>\n",
       "    <tr>\n",
       "      <th>44</th>\n",
       "      <td>13656</td>\n",
       "      <td>US</td>\n",
       "      <td>2020-04-15</td>\n",
       "      <td>636350</td>\n",
       "      <td>28325</td>\n",
       "      <td>52096</td>\n",
       "    </tr>\n",
       "    <tr>\n",
       "      <th>45</th>\n",
       "      <td>13657</td>\n",
       "      <td>US</td>\n",
       "      <td>2020-04-16</td>\n",
       "      <td>667801</td>\n",
       "      <td>32916</td>\n",
       "      <td>54703</td>\n",
       "    </tr>\n",
       "    <tr>\n",
       "      <th>46</th>\n",
       "      <td>13658</td>\n",
       "      <td>US</td>\n",
       "      <td>2020-04-17</td>\n",
       "      <td>699706</td>\n",
       "      <td>36773</td>\n",
       "      <td>58545</td>\n",
       "    </tr>\n",
       "  </tbody>\n",
       "</table>\n",
       "</div>"
      ],
      "text/plain": [
       "    index country       date  confirmed  deaths  recovered\n",
       "0   13612      US 2020-03-02         98       6          7\n",
       "1   13613      US 2020-03-03        118       7          7\n",
       "2   13614      US 2020-03-04        149      11          7\n",
       "3   13615      US 2020-03-05        217      12          7\n",
       "4   13616      US 2020-03-06        262      14          7\n",
       "5   13617      US 2020-03-07        402      17          7\n",
       "6   13618      US 2020-03-08        518      21          7\n",
       "7   13619      US 2020-03-09        583      22          7\n",
       "8   13620      US 2020-03-10        959      28          8\n",
       "9   13621      US 2020-03-11       1281      36          8\n",
       "10  13622      US 2020-03-12       1663      40         12\n",
       "11  13623      US 2020-03-13       2179      47         12\n",
       "12  13624      US 2020-03-14       2727      54         12\n",
       "13  13625      US 2020-03-15       3499      63         12\n",
       "14  13626      US 2020-03-16       4632      85         17\n",
       "15  13627      US 2020-03-17       6421     108         17\n",
       "16  13628      US 2020-03-18       7783     118        105\n",
       "17  13629      US 2020-03-19      13747     200        121\n",
       "18  13630      US 2020-03-20      19273     244        147\n",
       "19  13631      US 2020-03-21      25600     307        176\n",
       "20  13632      US 2020-03-22      33276     417        178\n",
       "21  13633      US 2020-03-23      43843     557        178\n",
       "22  13634      US 2020-03-24      53736     706        348\n",
       "23  13635      US 2020-03-25      65778     942        361\n",
       "24  13636      US 2020-03-26      83836    1209        681\n",
       "25  13637      US 2020-03-27     101657    1581        869\n",
       "26  13638      US 2020-03-28     121465    2026       1072\n",
       "27  13639      US 2020-03-29     140909    2467       2665\n",
       "28  13640      US 2020-03-30     161831    2978       5644\n",
       "29  13641      US 2020-03-31     188172    3873       7024\n",
       "30  13642      US 2020-04-01     213372    4757       8474\n",
       "31  13643      US 2020-04-02     243762    5926       9001\n",
       "32  13644      US 2020-04-03     275586    7087       9707\n",
       "33  13645      US 2020-04-04     308853    8407      14652\n",
       "34  13646      US 2020-04-05     337072    9619      17448\n",
       "35  13647      US 2020-04-06     366667   10783      19581\n",
       "36  13648      US 2020-04-07     396223   12722      21763\n",
       "37  13649      US 2020-04-08     429052   14695      23559\n",
       "38  13650      US 2020-04-09     461437   16478      25410\n",
       "39  13651      US 2020-04-10     496535   18586      28790\n",
       "40  13652      US 2020-04-11     526396   20462      31270\n",
       "41  13653      US 2020-04-12     555313   22019      32988\n",
       "42  13654      US 2020-04-13     580619   23528      43482\n",
       "43  13655      US 2020-04-14     607670   25831      47763\n",
       "44  13656      US 2020-04-15     636350   28325      52096\n",
       "45  13657      US 2020-04-16     667801   32916      54703\n",
       "46  13658      US 2020-04-17     699706   36773      58545"
      ]
     },
     "execution_count": 40,
     "metadata": {},
     "output_type": "execute_result"
    }
   ],
   "source": [
    "temp = df[(df['country']=='US') & (df['date'] > '2020-3-1')].reset_index()\n",
    "temp"
   ]
  },
  {
   "cell_type": "code",
   "execution_count": 41,
   "metadata": {},
   "outputs": [
    {
     "data": {
      "text/plain": [
       "Text(0, 0.5, 'Confirmed Cases')"
      ]
     },
     "execution_count": 41,
     "metadata": {},
     "output_type": "execute_result"
    },
    {
     "data": {
      "image/png": "[encoded data removed]",
      "text/plain": [
       "<Figure size 1296x288 with 1 Axes>"
      ]
     },
     "metadata": {},
     "output_type": "display_data"
    }
   ],
   "source": [
    "plt.figure(figsize=(18,4))\n",
    "ax = sns.lineplot(x=\"date\", y=\"confirmed\",data=temp)\n",
    "plt.title('Surge in USA confirmed cases')\n",
    "# Set x-axis label\n",
    "plt.xlabel('Date')\n",
    "# Set y-axis label\n",
    "plt.ylabel('Confirmed Cases')"
   ]
  },
  {
   "cell_type": "code",
   "execution_count": null,
   "metadata": {},
   "outputs": [],
   "source": []
  }
 ],
 "metadata": {
  "kernelspec": {
   "display_name": "Python 3",
   "language": "python",
   "name": "python3"
  },
  "language_info": {
   "codemirror_mode": {
    "name": "ipython",
    "version": 3
   },
   "file_extension": ".py",
   "mimetype": "text/x-python",
   "name": "python",
   "nbconvert_exporter": "python",
   "pygments_lexer": "ipython3",
   "version": "3.7.1"
  }
 },
 "nbformat": 4,
 "nbformat_minor": 2
}
